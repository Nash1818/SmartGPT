{
 "cells": [
  {
   "cell_type": "markdown",
   "id": "b8edc5c1",
   "metadata": {},
   "source": [
    "##  1. Bigram Language Model"
   ]
  },
  {
   "cell_type": "code",
   "execution_count": 40,
   "id": "ebe5fa78",
   "metadata": {},
   "outputs": [
    {
     "name": "stdout",
     "output_type": "stream",
     "text": [
      "\n",
      "  DOROTHY AND THE WIZARD IN OZ\n",
      "\n",
      "  BY\n",
      "\n",
      "  L. FRANK BAUM\n",
      "\n",
      "  AUTHOR OF THE WIZARD OF OZ, THE LAND OF OZ\n"
     ]
    }
   ],
   "source": [
    "with open(\"wizard_of_oz.txt\",'r', encoding='utf-8') as f:\n",
    "    text = f.read()\n",
    "print((text[:100]))"
   ]
  },
  {
   "cell_type": "code",
   "execution_count": 41,
   "id": "68425a27",
   "metadata": {},
   "outputs": [
    {
     "name": "stdout",
     "output_type": "stream",
     "text": [
      "['\\n', ' ', '!', '\"', '&', \"'\", '(', ')', '*', ',', '-', '.', '0', '1', '2', '3', '4', '5', '6', '7', '8', '9', ':', ';', '?', 'A', 'B', 'C', 'D', 'E', 'F', 'G', 'H', 'I', 'J', 'K', 'L', 'M', 'N', 'O', 'P', 'Q', 'R', 'S', 'T', 'U', 'V', 'W', 'X', 'Y', 'Z', '[', ']', '_', 'a', 'b', 'c', 'd', 'e', 'f', 'g', 'h', 'i', 'j', 'k', 'l', 'm', 'n', 'o', 'p', 'q', 'r', 's', 't', 'u', 'v', 'w', 'x', 'y', 'z']\n"
     ]
    }
   ],
   "source": [
    "# create a vocab type of list:\n",
    "chars = sorted(set(text))\n",
    "print(chars)"
   ]
  },
  {
   "cell_type": "code",
   "execution_count": 42,
   "id": "c9e347f1",
   "metadata": {},
   "outputs": [
    {
     "name": "stdout",
     "output_type": "stream",
     "text": [
      "[61, 58, 65, 65, 68]\n",
      "hello\n"
     ]
    }
   ],
   "source": [
    "# encoding gets a character or line to an integer:\n",
    "# tokenizer tokenizes everything:\n",
    "string_to_int = {ch: i for i, ch in enumerate(chars)}\n",
    "int_to_string = {i: ch for i, ch in enumerate(chars)}\n",
    "\n",
    "# encoding and decoding:\n",
    "encode = lambda s:[string_to_int[c] for c in s]\n",
    "decode = lambda l: ''.join([int_to_string[i] for i in l])\n",
    "\n",
    "# encode a string for example:\n",
    "print(encode(\"hello\"))\n",
    "print(decode(encode(\"hello\")))"
   ]
  },
  {
   "cell_type": "code",
   "execution_count": 43,
   "id": "db1ddb5d",
   "metadata": {},
   "outputs": [],
   "source": [
    "import torch"
   ]
  },
  {
   "cell_type": "code",
   "execution_count": 44,
   "id": "51dd8b63",
   "metadata": {},
   "outputs": [
    {
     "name": "stdout",
     "output_type": "stream",
     "text": [
      "tensor([ 0,  1,  1, 28, 39, 42, 39, 44, 32, 49,  1, 25, 38, 28,  1, 44, 32, 29,\n",
      "         1, 47, 33, 50, 25, 42, 28,  1, 33, 38,  1, 39, 50,  0,  0,  1,  1, 26,\n",
      "        49,  0,  0,  1,  1, 36, 11,  1, 30, 42, 25, 38, 35,  1, 26, 25, 45, 37,\n",
      "         0,  0,  1,  1, 25, 45, 44, 32, 39, 42,  1, 39, 30,  1, 44, 32, 29,  1,\n",
      "        47, 33, 50, 25, 42, 28,  1, 39, 30,  1, 39, 50,  9,  1, 44, 32, 29,  1,\n",
      "        36, 25, 38, 28,  1, 39, 30,  1, 39, 50])\n"
     ]
    }
   ],
   "source": [
    "data = torch.tensor(encode(text), dtype = torch.long) # torch.long is important\n",
    "print(data[:100])"
   ]
  },
  {
   "cell_type": "markdown",
   "id": "80a142d0",
   "metadata": {},
   "source": [
    "* The bigram model does exactly this.. given the previous it just predicts the next"
   ]
  },
  {
   "cell_type": "code",
   "execution_count": 45,
   "id": "8f0b1599",
   "metadata": {},
   "outputs": [
    {
     "name": "stdout",
     "output_type": "stream",
     "text": [
      "when input is tensor([0]) target is tensor(1)\n",
      "when input is tensor([0, 1]) target is tensor(1)\n",
      "when input is tensor([0, 1, 1]) target is tensor(28)\n",
      "when input is tensor([ 0,  1,  1, 28]) target is tensor(39)\n",
      "when input is tensor([ 0,  1,  1, 28, 39]) target is tensor(42)\n",
      "when input is tensor([ 0,  1,  1, 28, 39, 42]) target is tensor(39)\n",
      "when input is tensor([ 0,  1,  1, 28, 39, 42, 39]) target is tensor(44)\n",
      "when input is tensor([ 0,  1,  1, 28, 39, 42, 39, 44]) target is tensor(32)\n"
     ]
    }
   ],
   "source": [
    "# train and validation splits:\n",
    "\n",
    "n = int(0.8 * len(data))\n",
    "train_data = data[:n]\n",
    "val_data = data[n:]\n",
    "\n",
    "block_size = 8\n",
    "x = train_data[:block_size]\n",
    "y = train_data[1:block_size + 1]\n",
    "\n",
    "for t in range(block_size):\n",
    "    context = x[:t+1]\n",
    "    target = y[t]\n",
    "    print(\"when input is\", context, \"target is\", target)"
   ]
  },
  {
   "cell_type": "code",
   "execution_count": 46,
   "id": "292f35cd",
   "metadata": {},
   "outputs": [
    {
     "name": "stdout",
     "output_type": "stream",
     "text": [
      "cuda\n"
     ]
    }
   ],
   "source": [
    "# CPU does tasks sequentially so we can do them in parallel with GPU:\n",
    "device = 'cuda' if torch.cuda.is_available() else 'cpu'\n",
    "print(device)"
   ]
  },
  {
   "cell_type": "code",
   "execution_count": 47,
   "id": "1dcca0c9",
   "metadata": {},
   "outputs": [],
   "source": [
    "block_size = 8\n",
    "batch_size = 4"
   ]
  },
  {
   "cell_type": "code",
   "execution_count": 48,
   "id": "3b77e30c",
   "metadata": {},
   "outputs": [
    {
     "name": "stdout",
     "output_type": "stream",
     "text": [
      "Inputs\n",
      "tensor([[68, 76,  1, 61, 58,  1, 72, 73],\n",
      "        [55, 65, 58,  9,  3,  1, 54, 60],\n",
      "        [ 9,  1,  3, 62, 59,  1, 73, 61],\n",
      "        [ 1, 54, 72, 64, 58, 57,  1, 50]], device='cuda:0')\n",
      "targets: \n",
      "tensor([[76,  1, 61, 58,  1, 72, 73, 71],\n",
      "        [65, 58,  9,  3,  1, 54, 60, 71],\n",
      "        [ 1,  3, 62, 59,  1, 73, 61, 62],\n",
      "        [54, 72, 64, 58, 57,  1, 50, 58]], device='cuda:0')\n"
     ]
    }
   ],
   "source": [
    "def get_batch(split):\n",
    "    data = train_data if split == \"train\" else val_data\n",
    "    ix = torch.randint(len(data) - block_size,(batch_size,))\n",
    "    #print(ix)\n",
    "    x = torch.stack([data[i:i+block_size] for i in ix])\n",
    "    y = torch.stack([data[i+1:i+block_size+1] for i in ix])\n",
    "    x, y = x.to(device), y.to(device)\n",
    "    return x,y\n",
    "\n",
    "x,y = get_batch(\"train\")\n",
    "print('Inputs')\n",
    "print(x)\n",
    "print('targets: ')\n",
    "print(y)"
   ]
  },
  {
   "cell_type": "code",
   "execution_count": 49,
   "id": "3f60956e",
   "metadata": {},
   "outputs": [],
   "source": [
    "import torch.nn as nn\n",
    "from torch.nn import functional as F"
   ]
  },
  {
   "cell_type": "code",
   "execution_count": 50,
   "id": "2a4ceca9",
   "metadata": {},
   "outputs": [],
   "source": [
    "epochs = 5000\n",
    "learning_rate = 3e-4\n",
    "eval_epochs = 250\n",
    "# dropout = 0.2"
   ]
  },
  {
   "cell_type": "code",
   "execution_count": 51,
   "id": "4086d181",
   "metadata": {},
   "outputs": [],
   "source": [
    "# so that pytorch uses no gradients to preserve memory and speed:\n",
    "@torch.no_grad()\n",
    "def estimate_loss():\n",
    "    out = {}\n",
    "    model.eval()\n",
    "    for split in ['train', 'val']:\n",
    "        losses = torch.zeros(eval_epochs)\n",
    "        for k in range(eval_epochs):\n",
    "            X, Y = get_batch(split)\n",
    "            logits, loss = model(X, Y)\n",
    "            losses[k] = loss.item()\n",
    "        out[split] = losses.mean()\n",
    "    model.train()\n",
    "    return out"
   ]
  },
  {
   "cell_type": "code",
   "execution_count": 52,
   "id": "48fbfb4f",
   "metadata": {},
   "outputs": [],
   "source": [
    "class bigrammodel(nn.Module):\n",
    "    def __init__(self, vocab_size):\n",
    "        super().__init__()\n",
    "        self.token_embedding_table = nn.Embedding(vocab_size, vocab_size)\n",
    "    \n",
    "    # nn.embedding is like a lookup table\n",
    "    def forward(self, index, targets = None):\n",
    "        logits = self.token_embedding_table(index)\n",
    "        \n",
    "        if targets is None:\n",
    "            loss = None\n",
    "        else:\n",
    "            # logits are like most likely next word coming in(like a probab dist.)\n",
    "            # B- Batch, T- Time, C- Count\n",
    "            # shape is used to unpack and view is followed by this to put them back in a tensor\n",
    "            B, T, C = logits.shape\n",
    "            # we do this because pytorch expects arguments (N -> B*T, C-> C)\n",
    "            # we wanted it as (B,C,T) hence we use view ...\n",
    "            logits = logits.view(B*T,C)\n",
    "            targets = targets.view(B*T)\n",
    "            loss = F.cross_entropy(logits, targets)\n",
    "        \n",
    "        return logits, loss\n",
    "    \n",
    "    def generate(self,index, max_new_tokens):\n",
    "        # index is (B,T) array of indices in the current context\n",
    "        \n",
    "        for _ in range(max_new_tokens):\n",
    "            # getting predictions\n",
    "            logits, loss = self.forward(index)\n",
    "            # focus on the last step of time\n",
    "            logits = logits[:,-1,:] # becomes (B,C)\n",
    "            # apply softmax to obtain probabilities:\n",
    "            # focus on last dimension\n",
    "            probs = F.softmax(logits, dim = -1) # (B,C)\n",
    "            # sample from the distribution\n",
    "            index_next = torch.multinomial(probs, num_samples = 1) #(B,1)\n",
    "            # append sampled index to the running sequence\n",
    "            index = torch.cat((index, index_next), dim = 1) # does it on (B,T+1)\n",
    "        return index"
   ]
  },
  {
   "cell_type": "code",
   "execution_count": 53,
   "id": "d0f65864",
   "metadata": {},
   "outputs": [],
   "source": [
    "# defining the size of vocabSize\n",
    "vocab_size = len(chars)"
   ]
  },
  {
   "cell_type": "code",
   "execution_count": 54,
   "id": "9bc59c41",
   "metadata": {},
   "outputs": [
    {
     "name": "stdout",
     "output_type": "stream",
     "text": [
      "\n",
      "lATn[PDPpjB\n",
      "xy:o'GZzHVM!I:o0Bm6LZTURN-?9oiAk47IlJaGk4JQSZQs1XPVg(6C!Ht1SZ5Uj'TY)Skv)hKfpLwO'DIaPh9n?Jy7EhyINxXBZQ-oKW _XvzIw2\"xwYwT]oBbm83;*XMHg!S!m.Ndd&-OM[W\n",
      "pjWZtM8qez1q*e&hsQ&TV6snMylM7X)hRoFpWm9_2pyA*BhefvOhTM(bTPaz(sRVk,v0DQ)KW,ZQO'5_5q1x61m9QsEN7BEh;xeZ?oi')ja,kU5e&Fdkvt5[I:'_oE1YOidpsuPglVRNGd)]'hylSKv6_l\"W,k,hcj ?je(bqR'gFzNR-P\n",
      ".&\n",
      "Fbmdv-QB6Q txa\"::iOYhcpsXpWarlV)W,mjyD]8]wbTLHVgX1,HbTfI.8v;)m('t3i\n",
      "tF)zCuK!ZG(OYUVAZP35]lLXJ0YRPPDhY2Ce&ptaH,4!nx26Nm\"fx*(w,c;t6uIYu?&p o3)p-sE0Gy't\"DJ3UYU-Md\n"
     ]
    }
   ],
   "source": [
    "model = bigrammodel(vocab_size)\n",
    "m = model.to(device)\n",
    "\n",
    "context = torch.zeros((1,1), dtype = torch.long, device = device)\n",
    "generated_chars = decode(m.generate(context, max_new_tokens = 500)[0].tolist())\n",
    "print(generated_chars)"
   ]
  },
  {
   "cell_type": "code",
   "execution_count": 60,
   "id": "202c0eb3",
   "metadata": {},
   "outputs": [
    {
     "name": "stdout",
     "output_type": "stream",
     "text": [
      "step: 0, train loss: 4.842, val loss: 4.820\n",
      "step: 250, train loss: 4.742, val loss: 4.788\n",
      "step: 500, train loss: 4.703, val loss: 4.685\n",
      "step: 750, train loss: 4.656, val loss: 4.651\n",
      "step: 1000, train loss: 4.585, val loss: 4.581\n",
      "step: 1250, train loss: 4.523, val loss: 4.523\n",
      "step: 1500, train loss: 4.489, val loss: 4.491\n",
      "step: 1750, train loss: 4.406, val loss: 4.427\n",
      "step: 2000, train loss: 4.353, val loss: 4.376\n",
      "step: 2250, train loss: 4.307, val loss: 4.309\n",
      "step: 2500, train loss: 4.251, val loss: 4.259\n",
      "step: 2750, train loss: 4.191, val loss: 4.219\n",
      "step: 3000, train loss: 4.161, val loss: 4.167\n",
      "step: 3250, train loss: 4.114, val loss: 4.114\n",
      "step: 3500, train loss: 4.042, val loss: 4.078\n",
      "step: 3750, train loss: 4.009, val loss: 4.023\n",
      "step: 4000, train loss: 3.967, val loss: 3.992\n",
      "step: 4250, train loss: 3.926, val loss: 3.934\n",
      "step: 4500, train loss: 3.867, val loss: 3.890\n",
      "step: 4750, train loss: 3.841, val loss: 3.842\n",
      "3.9494590759277344\n"
     ]
    }
   ],
   "source": [
    "# create a PyTorch Optimizer:\n",
    "optim = torch.optim.AdamW(model.parameters(), lr = learning_rate)\n",
    "\n",
    "for iter in range(epochs):\n",
    "    # Loss reporting train vs eval mode:\n",
    "    if iter % eval_epochs == 0:\n",
    "        losses = estimate_loss()\n",
    "        print(f'step: {iter}, train loss: {losses[\"train\"]:.3f}, val loss: {losses[\"val\"]:.3f}')\n",
    "    # sampling a batch:\n",
    "    xb, yb = get_batch(\"train\")\n",
    "    \n",
    "    # evaluate loss:\n",
    "    logits, loss = model.forward(xb,yb)\n",
    "    # instead of 0 set gradient to None\n",
    "    optim.zero_grad(set_to_none = True)\n",
    "    loss.backward()\n",
    "    optim.step()\n",
    "\n",
    "print(loss.item())"
   ]
  },
  {
   "cell_type": "code",
   "execution_count": 61,
   "id": "204356be",
   "metadata": {},
   "outputs": [
    {
     "name": "stdout",
     "output_type": "stream",
     "text": [
      "\n",
      "PQ6fVrP uqw5VMIrEw\"::[VW-Ts[H.w[qi02A\"RukAJMNv[F\"h0p;IOhMnBp0Z(XB*3no!\"C;8OB-RIhaMn( C)'of,fVIDTIP,*8cK1XI0]\"v-]FdBXDAap*?;!TI5IOx_wU'YcFDTd]y D*jyGpA\"Ba1nSxgZ9lCfZ :Yk.P,0uHnm7N.o9qk\n",
      "7\"kVci!H6awWAMnps)QzQzk.7y* h0Zw5EF*k8O10,f:V5(Qj]9 f&Uc e;28MRnp;6QZUmXN06O1V!m\"2zIOxgfvf06R\n",
      "!c_fZwolS.7YjD74[lK,43fFAiMrobeqFdeV1o9lQz3*bAZnaKLY(KkGQZe.O\n",
      ",8ig2\"D2sZt40nS.zE\n",
      "RQumGfwh7_r(n5F*c,fXGQZdNwrfo9t9'?\"gavfy_K6Hi_xV_l h7Zk2R,f?RFOkwsArZMgm]h.eBTviYsaF),BIhm7B]5HKFPr1k ?;D bVZU uIIwS:nDi0_(gf1R_t:c3NHnhS(?QX\n"
     ]
    }
   ],
   "source": [
    "model = bigrammodel(vocab_size)\n",
    "m = model.to(device)\n",
    "\n",
    "context = torch.zeros((1,1), dtype = torch.long, device = device)\n",
    "generated_chars = decode(m.generate(context, max_new_tokens = 500)[0].tolist())\n",
    "print(generated_chars)"
   ]
  },
  {
   "cell_type": "markdown",
   "id": "6cf9a3f2",
   "metadata": {},
   "source": [
    "* Common Optimizers:\n",
    "1. MSE (Mean Squared Error)- for regression\n",
    "2. Gradient Descent (GD)- to minimize the loss function\n",
    "3. Momentum - to smooth out and aid GD, extension of GD\n",
    "4. RMSprop - Moving average of squared GD\n",
    "5. Adam - Combines momentum and RMSProp\n",
    "6. AdamW - modification of Adam by adding weight decay"
   ]
  },
  {
   "cell_type": "code",
   "execution_count": 63,
   "id": "10b866f4",
   "metadata": {},
   "outputs": [
    {
     "name": "stdout",
     "output_type": "stream",
     "text": [
      "ReLU(inplace=True)\n"
     ]
    }
   ],
   "source": [
    "# Activation functions example ReLU:\n",
    "x = torch.tensor([-0.05], dtype = torch.float32)\n",
    "y = nn.ReLU(x)\n",
    "print(y)"
   ]
  },
  {
   "cell_type": "code",
   "execution_count": 64,
   "id": "f0b89c7e",
   "metadata": {},
   "outputs": [
    {
     "name": "stdout",
     "output_type": "stream",
     "text": [
      "tensor([0.4875])\n"
     ]
    }
   ],
   "source": [
    "# Activation functions example sigmoid:\n",
    "x = torch.tensor([-0.05], dtype = torch.float32)\n",
    "y = F.sigmoid(x)\n",
    "print(y)"
   ]
  },
  {
   "cell_type": "code",
   "execution_count": 66,
   "id": "aeeae778",
   "metadata": {},
   "outputs": [
    {
     "name": "stdout",
     "output_type": "stream",
     "text": [
      "tensor([0.7616])\n"
     ]
    }
   ],
   "source": [
    "# Activation functions example tanh:\n",
    "x = torch.tensor([1], dtype = torch.float32)\n",
    "y = F.tanh(x)\n",
    "print(y)"
   ]
  },
  {
   "cell_type": "code",
   "execution_count": null,
   "id": "5cfc258b",
   "metadata": {},
   "outputs": [],
   "source": []
  }
 ],
 "metadata": {
  "kernelspec": {
   "display_name": "cuda-gpt",
   "language": "python",
   "name": "cuda"
  },
  "language_info": {
   "codemirror_mode": {
    "name": "ipython",
    "version": 3
   },
   "file_extension": ".py",
   "mimetype": "text/x-python",
   "name": "python",
   "nbconvert_exporter": "python",
   "pygments_lexer": "ipython3",
   "version": "3.11.5"
  }
 },
 "nbformat": 4,
 "nbformat_minor": 5
}
