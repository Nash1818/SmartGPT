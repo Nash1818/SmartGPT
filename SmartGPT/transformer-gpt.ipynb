{
 "cells": [
  {
   "cell_type": "code",
   "execution_count": 20,
   "id": "798a1d6c",
   "metadata": {},
   "outputs": [],
   "source": [
    "import torch\n",
    "import torch.nn as nn\n",
    "import torch.nn.functional as F\n",
    "import mmap\n",
    "import random\n",
    "import pickle\n",
    "import argparse"
   ]
  },
  {
   "cell_type": "code",
   "execution_count": null,
   "id": "413d04ca",
   "metadata": {},
   "outputs": [],
   "source": [
    "# inserting through command line arguments:::\n",
    "\n",
    "parser = argparse.ArgumentParser(description = \"DemoScript\")\n",
    "# adding an argument to the parser:\n",
    "parser.add_argument('-batch_size', type = str, required = True, help = \"Provide a batch_size\")\n",
    "args = parser.parse_args()\n",
    "print(f'batch_size: {args.batch_size}')\n",
    "\n",
    "# HyperParameters:\n",
    "block_size = 64\n",
    "# batch_size = 128\n",
    "batch_size = args.batch_size\n",
    "epochs = 1000\n",
    "learning_rate = 3e-4\n",
    "val_epochs = 100\n",
    "n_embd = 384\n",
    "n_layer = 4\n",
    "n_head = 4\n",
    "dropout = 0.2"
   ]
  },
  {
   "cell_type": "code",
   "execution_count": 21,
   "id": "329b360a",
   "metadata": {},
   "outputs": [
    {
     "name": "stdout",
     "output_type": "stream",
     "text": [
      "cuda\n"
     ]
    }
   ],
   "source": [
    "device = \"cuda\" if torch.cuda.is_available() else \"cpu\"\n",
    "print(device)"
   ]
  },
  {
   "cell_type": "code",
   "execution_count": 23,
   "id": "ed3e866c",
   "metadata": {},
   "outputs": [
    {
     "data": {
      "text/plain": [
       "32172"
      ]
     },
     "execution_count": 23,
     "metadata": {},
     "output_type": "execute_result"
    }
   ],
   "source": [
    "chars = \"\"\n",
    "with open('vocab.txt', 'r', encoding = 'utf-8') as f:\n",
    "    text = f.read()\n",
    "    chars = sorted(set(text))\n",
    "vocab_size = len(chars)\n",
    "vocab_size"
   ]
  },
  {
   "cell_type": "code",
   "execution_count": 24,
   "id": "1609125c",
   "metadata": {},
   "outputs": [],
   "source": [
    "# encoding and decoding:\n",
    "string_to_int = {ch: i for i,ch in enumerate(chars)}\n",
    "int_to_string = {i:ch for i,ch in enumerate(chars)}\n",
    "\n",
    "encode = lambda s: [string_to_int[c] for c in s]\n",
    "decode = lambda l: ''.join([int_to_string[i] for i in l])"
   ]
  },
  {
   "cell_type": "code",
   "execution_count": 25,
   "id": "4f85c5b0",
   "metadata": {},
   "outputs": [],
   "source": [
    "# data = torch.tensor(encode(text), dtype = torch.long)"
   ]
  },
  {
   "cell_type": "code",
   "execution_count": 26,
   "id": "f7bad2be",
   "metadata": {},
   "outputs": [
    {
     "data": {
      "text/plain": [
       "'x = train_data[:block_size]\\ny = train_data[1:block_size+1]\\n\\n# example:\\nfor t in range(block_size):\\n    context = x[:t+1]\\n    target = y[t]\\n    print(f\"Context is: {context} and target: {target}\")'"
      ]
     },
     "execution_count": 26,
     "metadata": {},
     "output_type": "execute_result"
    }
   ],
   "source": [
    "# training and validation splits:\n",
    "\"\"\"n = int(0.8 * len(data))\n",
    "train_data = data[:n]\n",
    "val_data = data[n:]\"\"\"\n",
    "\n",
    "\"\"\"x = train_data[:block_size]\n",
    "y = train_data[1:block_size+1]\n",
    "\n",
    "# example:\n",
    "for t in range(block_size):\n",
    "    context = x[:t+1]\n",
    "    target = y[t]\n",
    "    print(f\"Context is: {context} and target: {target}\")\"\"\""
   ]
  },
  {
   "cell_type": "code",
   "execution_count": 27,
   "id": "9689e2a0",
   "metadata": {},
   "outputs": [],
   "source": [
    "# memory map for using small snippets of text from a single file of any size:\n",
    "def get_random_chunk(split):\n",
    "    filename = 'train_split.txt' if split == \"train\" else \"val_split.txt\"\n",
    "    with open(filename, 'rb') as f:\n",
    "        with mmap.mmap(f.fileno(), 0, access = mmap.ACCESS_READ) as mm:\n",
    "            # determine the file size and a random position to start reading:\n",
    "            file_size = len(mm)\n",
    "            start_pos = random.randint(0, (file_size) - block_size * batch_size)\n",
    "            \n",
    "            # seek to the random position and read the block of text:\n",
    "            mm.seek(start_pos)\n",
    "            block = mm.read(block_size * batch_size - 1)\n",
    "            \n",
    "            # decode the block to a string, ignoring invalid byte sequences:\n",
    "            # just wrap around and continue:\n",
    "            decoded_block = block.decode('utf-8', errors = 'ignore').replace('\\r', '')\n",
    "            \n",
    "            # Train and Test splits:\n",
    "            data = torch.tensor(encode(decoded_block), dtype = torch.long)\n",
    "    return data\n",
    "\n",
    "\n",
    "# get_batch function:\n",
    "def get_batch(split):\n",
    "    #data = train_data if split == \"train\" else val_data\n",
    "    data = get_random_chunk(split)\n",
    "    ix = torch.randint(len(data) - block_size,(batch_size,))\n",
    "    x = torch.stack([data[i:i+ block_size] for i in ix])\n",
    "    y = torch.stack([data[i+1:i+ block_size+1] for i in ix])\n",
    "    x,y = x.to(device), y.to(device)\n",
    "    return x,y"
   ]
  },
  {
   "cell_type": "code",
   "execution_count": 28,
   "id": "560e3db0",
   "metadata": {},
   "outputs": [],
   "source": [
    "# initial no gradient:\n",
    "@torch.no_grad()\n",
    "def estimate_loss():\n",
    "    out = {}\n",
    "    model.eval()\n",
    "    for split in [\"train\",\"val\"]:\n",
    "        losses = torch.zeros(10)\n",
    "        for k in range(10):\n",
    "            X,Y = get_batch(split)\n",
    "            logits, loss = model(X,Y)\n",
    "            losses[k] = loss.item()\n",
    "        out[split] = losses.mean()\n",
    "    model.train()\n",
    "    return out"
   ]
  },
  {
   "cell_type": "markdown",
   "id": "65d4b8bc",
   "metadata": {},
   "source": [
    "### Scaled Dot Product Attention"
   ]
  },
  {
   "cell_type": "code",
   "execution_count": 29,
   "id": "5e5eb4e8",
   "metadata": {},
   "outputs": [],
   "source": [
    "class Head(nn.Module):\n",
    "    def __init__(self, head_size):\n",
    "        super().__init__()\n",
    "        self.key = nn.Linear(n_embd, head_size, bias = False)\n",
    "        self.query = nn.Linear(n_embd, head_size, bias = False)\n",
    "        self.value = nn.Linear(n_embd,head_size, bias = False)\n",
    "        # register buffer saves computation and helps save training time: \n",
    "        self.register_buffer('tril', torch.tril(torch.ones(block_size, block_size)))\n",
    "        self.dropout = nn.Dropout(dropout)\n",
    "        \n",
    "    def forward(self, x):\n",
    "        # input size (batch, time-step, channels)\n",
    "        # output size(batch, time-step, head_size)\n",
    "        B, T, C = x.shape\n",
    "        k = self.key(x)\n",
    "        q = self.query(x)\n",
    "        # compute attention scores:\n",
    "        wei = q @ k.transpose(-2,-1) * k.shape[-1] **-0.5 \n",
    "        # (B, T, hs) @ (B, hs, T) -> (B, T, T)\n",
    "        wei = wei.masked_fill(self.tril[:T,:T] == 0, float('-inf')) # (B, T, T)\n",
    "        wei = F.softmax(wei, dim = -1) # along the last dimension (B,T,T)\n",
    "        wei = self.dropout(wei)\n",
    "        # perform weighted aggregation of values:\n",
    "        v = self.value(x) # (B, T, hs)\n",
    "        out = wei @ v # (B, T, T) @ (B, T, hs) -> (B, T, hs)\n",
    "        return out"
   ]
  },
  {
   "cell_type": "markdown",
   "id": "05fe5cd0",
   "metadata": {},
   "source": [
    "### Multi-Head Attention Class"
   ]
  },
  {
   "cell_type": "code",
   "execution_count": 30,
   "id": "3388cda6",
   "metadata": {},
   "outputs": [],
   "source": [
    "class MultiHeadAttention(nn.Module):\n",
    "    \"\"\"Multiple heads of self attention\"\"\"\n",
    "    def __init__(self, num_heads, head_size):\n",
    "        super().__init__()\n",
    "        self.heads = nn.ModuleList([Head(head_size) for _ in range(num_heads)])\n",
    "        self.proj = nn.Linear(head_size * num_heads, n_embd)\n",
    "        self.dropout = nn.Dropout(dropout)\n",
    "    \n",
    "    def forward(self, x):\n",
    "        out = torch.cat([h(x) for h in self.heads], dim = -1) # (B, T, C = F => [h1,h1,h1,h1,h2,h2,h2.....]-> dim = 1)\n",
    "        out = self.dropout(self.proj(out))\n",
    "        return out"
   ]
  },
  {
   "cell_type": "markdown",
   "id": "19ab280a",
   "metadata": {},
   "source": [
    "### FeedForward Class"
   ]
  },
  {
   "cell_type": "code",
   "execution_count": 31,
   "id": "70b0e0ee",
   "metadata": {},
   "outputs": [],
   "source": [
    "class FeedForward(nn.Module):\n",
    "    \"\"\"Simple feed forward architecture of a linear layer with a non linearity\"\"\"\n",
    "    def __init__(self, n_embd):\n",
    "        super().__init__()\n",
    "        self.net = nn.Sequential(\n",
    "        nn.Linear(n_embd, 4 * n_embd),\n",
    "        nn.ReLU(),\n",
    "        nn.Linear(4 * n_embd, n_embd),\n",
    "        nn.Dropout(dropout),\n",
    "        )\n",
    "        \n",
    "    def forward(self, x):\n",
    "        return self.net(x)"
   ]
  },
  {
   "cell_type": "markdown",
   "id": "9f26bfd0",
   "metadata": {},
   "source": [
    "### Block Class"
   ]
  },
  {
   "cell_type": "code",
   "execution_count": 32,
   "id": "ae293eba",
   "metadata": {},
   "outputs": [],
   "source": [
    "# Let's create the decoder block class for the GPTModel:\n",
    "class Block(nn.Module):\n",
    "    def __init__(self, n_embd, n_head):\n",
    "        super().__init__()\n",
    "        # no of features each head will be capturing is head_size: 384/4 = 96 features\n",
    "        \n",
    "        head_size = n_embd // n_head\n",
    "        self.sa = MultiHeadAttention(n_head, head_size)\n",
    "        self.ffwd = FeedForward(n_embd)\n",
    "        self.ln1 = nn.LayerNorm(n_embd)\n",
    "        self.ln2 = nn.LayerNorm(n_embd)\n",
    "    \n",
    "    def forward(self,x):\n",
    "        # Post normalization used here as given in paper of transformer:\n",
    "        y = self.sa(x)\n",
    "        x = self.ln1(x + y)\n",
    "        y = self.ffwd(x)\n",
    "        x = self.ln2(x + y)\n",
    "        return x"
   ]
  },
  {
   "cell_type": "markdown",
   "id": "ed47afe8",
   "metadata": {},
   "source": [
    "### Main Model Class"
   ]
  },
  {
   "cell_type": "code",
   "execution_count": 33,
   "id": "1cac2eea",
   "metadata": {},
   "outputs": [],
   "source": [
    "# main model:\n",
    "class gptmodel(nn.Module):\n",
    "    def __init__(self, vocab_size):\n",
    "        super().__init__()\n",
    "        self.token_embedding_table = nn.Embedding(vocab_size, n_embd)\n",
    "        self.positional_embedding_table = nn.Embedding(block_size, n_embd)\n",
    "        # Now to make 4 decoder blocks\n",
    "        self.blocks = nn.Sequential(*[Block(n_embd, n_head = n_head) for _ in range(n_layer)])\n",
    "        self.ln_f = nn.LayerNorm(n_embd) # for layer normalization: with nn.Linear\n",
    "        self.lm_head = nn.Linear(n_embd, vocab_size)\n",
    "        # Now apply initial weights:\n",
    "        self.apply(self._init_weights)\n",
    "    \n",
    "    def _init_weights(self, module):\n",
    "        if isinstance(module, nn.Linear):\n",
    "            torch.nn.init.normal_(module.weight, mean = 0.0, std = 0.02)\n",
    "            if module.bias is not None:\n",
    "                torch.nn.init.zeros_(module.bias)\n",
    "            elif isinstance(module, nn.Embedding):\n",
    "                torch.nn.init.normal_(module.weight, mean = 0.0, std = 0.02)\n",
    "    \n",
    "    def forward(self, index, targets = None):\n",
    "        # logits = self.token_embedding_table(index)\n",
    "        # B, T, C = logits.shape\n",
    "        B, T = index.shape\n",
    "        # idx and targets are both (B,T) tensor of integers:\n",
    "        tok_emb = self.token_embedding_table(index) # (B,T,C)\n",
    "        pos_emb = self.positional_embedding_table(torch.arange(T, device = device))\n",
    "        x = tok_emb + pos_emb\n",
    "        x = self.blocks(x) # (B,T,C)\n",
    "        x = self.ln_f(x) # (B,T,C)\n",
    "        logits = self.lm_head(x) # (B,T,C)\n",
    "        \n",
    "        if targets is None:\n",
    "            loss = None\n",
    "        else:\n",
    "            B, T, C = logits.shape\n",
    "            logits = logits.view(B*T, C)\n",
    "            targets = targets.view(B*T)\n",
    "            loss = F.cross_entropy(logits, targets)\n",
    "        \n",
    "        return logits, loss\n",
    "    \n",
    "    def generate(self, index, max_new_tokens):\n",
    "        # index is (B,T) array of indices in the current context\n",
    "        for _ in range(max_new_tokens):\n",
    "            # get predictions\n",
    "            logits, loss = self.forward(index)\n",
    "            # focus only on last time step:\n",
    "            logits = logits[:,-1,:]\n",
    "            # apply softmax to get probabilities:\n",
    "            probs = F.softmax(logits, dim = -1) # (B, C)\n",
    "            # sample from the distribution:\n",
    "            index_next = torch.multinomial(probs, num_samples = 1) #(B, 1)\n",
    "            # append sampled index to the running sequence\n",
    "            index = torch.cat((index, index_next), dim = 1) # (B, T+1)\n",
    "        return index"
   ]
  },
  {
   "cell_type": "code",
   "execution_count": 34,
   "id": "fcc44afa",
   "metadata": {},
   "outputs": [],
   "source": [
    "model = gptmodel(vocab_size)\n",
    "#m = model.to(device)"
   ]
  },
  {
   "cell_type": "code",
   "execution_count": 35,
   "id": "a9b872c2",
   "metadata": {},
   "outputs": [
    {
     "name": "stdout",
     "output_type": "stream",
     "text": [
      "Loading....\n",
      "loaded\n"
     ]
    }
   ],
   "source": [
    "print(\"Loading....\")\n",
    "with open('model-01.pkl','rb') as f:\n",
    "    model = pickle.load(f)\n",
    "print(\"loaded\")\n",
    "m = model.to(device)"
   ]
  },
  {
   "cell_type": "code",
   "execution_count": 36,
   "id": "a05437c5",
   "metadata": {},
   "outputs": [
    {
     "name": "stdout",
     "output_type": "stream",
     "text": [
      "step: 0, train loss: 1.835, val loss: 1.581\n",
      "step: 100, train loss: 1.793, val loss: 1.702\n",
      "step: 200, train loss: 1.614, val loss: 1.778\n",
      "step: 300, train loss: 1.688, val loss: 1.697\n",
      "step: 400, train loss: 1.689, val loss: 1.574\n",
      "step: 500, train loss: 1.721, val loss: 1.574\n",
      "step: 600, train loss: 1.850, val loss: 1.542\n",
      "step: 700, train loss: 1.731, val loss: 1.599\n",
      "step: 800, train loss: 1.537, val loss: 1.678\n",
      "step: 900, train loss: 1.755, val loss: 1.716\n",
      "1.6575413942337036\n"
     ]
    }
   ],
   "source": [
    "# create a training loop:\n",
    "optimizer = torch.optim.AdamW(model.parameters(), lr = learning_rate)\n",
    "\n",
    "for iter in range(1000):\n",
    "    if iter % 100 == 0:\n",
    "        losses = estimate_loss()\n",
    "        print(f\"step: {iter}, train loss: {losses['train']:.3f}, val loss: {losses['val']:.3f}\")\n",
    "    \n",
    "    # sample a batch of data:\n",
    "    xb, yb = get_batch(\"train\")\n",
    "    \n",
    "    # evaluate the loss:\n",
    "    logits, loss = model.forward(xb, yb)\n",
    "    optimizer.zero_grad(set_to_none = True)\n",
    "    loss.backward()\n",
    "    optimizer.step()\n",
    "print(loss.item())"
   ]
  },
  {
   "cell_type": "code",
   "execution_count": 37,
   "id": "144ee7b2",
   "metadata": {},
   "outputs": [
    {
     "name": "stdout",
     "output_type": "stream",
     "text": [
      "model saved!\n"
     ]
    }
   ],
   "source": [
    "# pickle works only on one GPU core whereas torch.load can use multiple:\n",
    "with open('model-01.pkl','wb') as f:\n",
    "    pickle.dump(model, f)\n",
    "print(\"model saved!\")"
   ]
  },
  {
   "cell_type": "code",
   "execution_count": null,
   "id": "2462f7c5",
   "metadata": {},
   "outputs": [],
   "source": []
  }
 ],
 "metadata": {
  "kernelspec": {
   "display_name": "cuda-gpt",
   "language": "python",
   "name": "cuda"
  },
  "language_info": {
   "codemirror_mode": {
    "name": "ipython",
    "version": 3
   },
   "file_extension": ".py",
   "mimetype": "text/x-python",
   "name": "python",
   "nbconvert_exporter": "python",
   "pygments_lexer": "ipython3",
   "version": "3.11.5"
  }
 },
 "nbformat": 4,
 "nbformat_minor": 5
}
